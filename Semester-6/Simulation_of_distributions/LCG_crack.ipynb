{
 "cells": [
  {
   "cell_type": "code",
   "execution_count": 1,
   "metadata": {},
   "outputs": [],
   "source": [
    "import numpy as np\n",
    "import urllib\n",
    "from math import gcd\n",
    "from functools import reduce"
   ]
  },
  {
   "cell_type": "code",
   "execution_count": 2,
   "metadata": {},
   "outputs": [],
   "source": [
    "url = \"http://statmod.ru/wiki/_media/study:spring2021:lcg_seq_2021.txt\"\n",
    "file = urllib.request.urlopen(url)\n",
    "sequence = np.array([int(line) for line in file])"
   ]
  },
  {
   "cell_type": "code",
   "execution_count": 3,
   "metadata": {},
   "outputs": [],
   "source": [
    "class LCG:\n",
    "    def __init__(self, mod, mult, inc, seed):\n",
    "        self.modulo = mod\n",
    "        self.multiplier = mult\n",
    "        self.increment = inc\n",
    "        self.val = seed\n",
    "\n",
    "    def next(self):\n",
    "        self.val =  (self.val * self.multiplier + self.increment) % self.modulo\n",
    "        return self.val"
   ]
  },
  {
   "cell_type": "code",
   "execution_count": 4,
   "metadata": {},
   "outputs": [],
   "source": [
    "def gcdex(a, mod):\n",
    "    if (a == 0):\n",
    "        return (mod, 0, 1)\n",
    "    else:\n",
    "        g, x, y = gcdex(mod % a, a)\n",
    "        return (g, y - (mod // a) * x, x)"
   ]
  },
  {
   "cell_type": "code",
   "execution_count": 5,
   "metadata": {},
   "outputs": [],
   "source": [
    "def inv(a, mod):\n",
    "    g, x, y = gcdex(a, mod)\n",
    "    if (abs(g) == 1):\n",
    "        return x % mod"
   ]
  },
  {
   "cell_type": "code",
   "execution_count": 8,
   "metadata": {},
   "outputs": [],
   "source": [
    "def crack_lcg(seq):\n",
    "    mult_seq = np.array([i - j for i, j in zip(seq, seq[1:])])\n",
    "    zero_seq = np.array([abs(j ** 2 - i * k) for i, j, k in zip(mult_seq, mult_seq[1:], mult_seq[2:])])\n",
    "    mod = abs(reduce(gcd, zero_seq))\n",
    "    multiplier = (mult_seq[2] * inv(mult_seq[1], mod)) % mod\n",
    "    increment = (sequence[1] - sequence[0] * multiplier) % mod\n",
    "    return (mod, multiplier, increment)"
   ]
  },
  {
   "cell_type": "code",
   "execution_count": 9,
   "metadata": {},
   "outputs": [],
   "source": [
    "mod, mult, inc = crack_lcg(sequence)\n",
    "generator = LCG(mod, mult, inc, sequence[0])\n",
    "new_seq = np.array([sequence[0] if (i == 0) else generator.next() for i in range(len(sequence))])"
   ]
  },
  {
   "cell_type": "code",
   "execution_count": 10,
   "metadata": {},
   "outputs": [
    {
     "name": "stdout",
     "output_type": "stream",
     "text": [
      "118780121\n",
      "44997167\n",
      "13371337\n"
     ]
    }
   ],
   "source": [
    "print(mod, mult, inc, sep = \"\\n\")"
   ]
  }
 ],
 "metadata": {
  "kernelspec": {
   "display_name": "Python 3",
   "language": "python",
   "name": "python3"
  },
  "language_info": {
   "codemirror_mode": {
    "name": "ipython",
    "version": 3
   },
   "file_extension": ".py",
   "mimetype": "text/x-python",
   "name": "python",
   "nbconvert_exporter": "python",
   "pygments_lexer": "ipython3",
   "version": "3.7.4"
  }
 },
 "nbformat": 4,
 "nbformat_minor": 4
}
