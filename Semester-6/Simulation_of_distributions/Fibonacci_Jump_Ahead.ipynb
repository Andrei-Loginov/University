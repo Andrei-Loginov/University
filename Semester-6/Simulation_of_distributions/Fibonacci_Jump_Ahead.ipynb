{
 "cells": [
  {
   "cell_type": "code",
   "execution_count": 1,
   "metadata": {},
   "outputs": [],
   "source": [
    "import numpy as np\n",
    "from math import gcd\n",
    "import math"
   ]
  },
  {
   "cell_type": "code",
   "execution_count": 2,
   "metadata": {},
   "outputs": [],
   "source": [
    "class LCG:\n",
    "    def __init__(self, mod = 2**32, mult = 214013, inc = 2531011, seed = 42):\n",
    "        self.modulo = mod\n",
    "        self.multiplier = mult\n",
    "        self.increment = inc\n",
    "        self.val = seed\n",
    "\n",
    "    def next(self):\n",
    "        self.val =  (self.val * self.multiplier + self.increment) % self.modulo\n",
    "        return self.val"
   ]
  },
  {
   "cell_type": "code",
   "execution_count": 3,
   "metadata": {},
   "outputs": [],
   "source": [
    "def field_matrix_multiplication(A, B, mod):\n",
    "    l = A.shape[0]\n",
    "    m = A.shape[1]\n",
    "    n = B.shape[1]\n",
    "    C = np.zeros((l, n), dtype = np.int64)\n",
    "    for i in range(0, l):\n",
    "        for j in range(0, n):\n",
    "            for k in range(0, m):\n",
    "                C[i][j] = (C[i][j] + (A[i][k] * B[k][j] % mod)) % mod\n",
    "    return C"
   ]
  },
  {
   "cell_type": "code",
   "execution_count": 4,
   "metadata": {},
   "outputs": [],
   "source": [
    "def field_matrix_pow(A, power, mod):\n",
    "    if (power == 0):\n",
    "        return np.eye(A.shape[0], A.shape[1], dtype = np.int64)\n",
    "    if (power == 1):\n",
    "        return A % mod\n",
    "    if (power % 2 == 0):\n",
    "        return field_matrix_pow(field_matrix_multiplication(A, A, mod), power / 2, mod)\n",
    "    return field_matrix_multiplication(A, field_matrix_pow(A, power - 1, mod), mod)"
   ]
  },
  {
   "cell_type": "code",
   "execution_count": 11,
   "metadata": {},
   "outputs": [
    {
     "name": "stdout",
     "output_type": "stream",
     "text": [
      "[[ True  True]\n",
      " [ True  True]]\n"
     ]
    }
   ],
   "source": [
    "A = np.array([[1, 2], [4, 5]])\n",
    "field_matrix_pow(A, 3, 100)\n",
    "C = field_matrix_pow(A, 3, 100)\n",
    "B = np.array([1, 2])\n",
    "D = np.array([[1, 2], [4, 5]])\n",
    "##field_matrix_multiplication(A, B.reshape(B.shape[0], 1), 100)\n",
    "fl = False\n",
    "for i in range(2, 2000):\n",
    "    D = D.dot(A) % 1000\n",
    "    \n",
    "print(D == field_matrix_pow(A, 1999, 1000))"
   ]
  },
  {
   "cell_type": "code",
   "execution_count": 6,
   "metadata": {},
   "outputs": [],
   "source": [
    "class FibonacciAdditive:\n",
    "    def __init__(self, seed, M, j):\n",
    "        self.X = np.array(seed, dtype = np.int64) % M\n",
    "        self.M = M\n",
    "        self.j = j\n",
    "        self.k = len(seed)\n",
    "        self.A = np.zeros((len(self.X), len(self.X)), dtype = np.int64)\n",
    "        self.A[len(self.X)-1][0] = 1\n",
    "        for i in range(0, len(self.X) - 1):\n",
    "            self.A[i][i+1] = 1\n",
    "        self.A[- 1][self.k - j] = 1\n",
    "        \n",
    "    #def rand(self):\n",
    "     #   ans = (self.X[0] + self.X[self.k - self.j])\n",
    "      #  self.X = np.array([ans if (i == len(self.X) - 1) else self.X[i+1] for i in range(0, len(self.X))])\n",
    "       # return ans\n",
    "    def rand(self):\n",
    "        #self.X = np.dot(self.A, self.X)\n",
    "        newShape = (self.X.shape[0], 1)\n",
    "        self.X = field_matrix_multiplication(self.A, self.X.reshape(newShape), self.M)\n",
    "        return self.X[-1][0]\n",
    "    def JumpAhead(self, step):\n",
    "        B = field_matrix_pow(self.A, step, self.M)\n",
    "        newShape = (self.X.shape[0], 1)\n",
    "        self.X = field_matrix_multiplication(B, self.X.reshape(newShape), self.M)\n",
    "        return self.X[-1][0]"
   ]
  },
  {
   "cell_type": "code",
   "execution_count": 7,
   "metadata": {},
   "outputs": [
    {
     "name": "stdout",
     "output_type": "stream",
     "text": [
      "5\n",
      "7\n",
      "8\n"
     ]
    }
   ],
   "source": [
    "seed = [1, 2, 3, 4, 5]\n",
    "gen = FibonacciAdditive(seed, 32, 2)\n",
    "otherGen = FibonacciAdditive(seed, 32, 2)\n",
    "print(gen.rand())\n",
    "print(gen.rand())\n",
    "print(gen.rand())"
   ]
  },
  {
   "cell_type": "code",
   "execution_count": 8,
   "metadata": {},
   "outputs": [
    {
     "name": "stdout",
     "output_type": "stream",
     "text": [
      "3544195055\n",
      "3544195055\n"
     ]
    },
    {
     "name": "stderr",
     "output_type": "stream",
     "text": [
      "/home/andrei/anaconda3/lib/python3.7/site-packages/ipykernel_launcher.py:9: RuntimeWarning: overflow encountered in long_scalars\n",
      "  if __name__ == '__main__':\n"
     ]
    }
   ],
   "source": [
    "LGen = LCG(seed = 15)\n",
    "seed = np.array([LGen.next() for _ in range(0, 10)])\n",
    "gen1 = FibonacciAdditive(seed, 2**32, 5)\n",
    "gen2 = FibonacciAdditive(seed, 2**32, 5)\n",
    "for _ in range(1000):\n",
    "    gen1.rand()\n",
    "print(gen1.rand())\n",
    "print(gen2.JumpAhead(1001))"
   ]
  },
  {
   "cell_type": "code",
   "execution_count": 9,
   "metadata": {},
   "outputs": [
    {
     "name": "stderr",
     "output_type": "stream",
     "text": [
      "/home/andrei/anaconda3/lib/python3.7/site-packages/ipykernel_launcher.py:9: RuntimeWarning: overflow encountered in long_scalars\n",
      "  if __name__ == '__main__':\n"
     ]
    },
    {
     "data": {
      "text/plain": [
       "2772760916"
      ]
     },
     "execution_count": 9,
     "metadata": {},
     "output_type": "execute_result"
    }
   ],
   "source": [
    "gen3 = FibonacciAdditive(seed, 2**32, 5)\n",
    "gen3.JumpAhead(10**9)"
   ]
  },
  {
   "cell_type": "code",
   "execution_count": 10,
   "metadata": {},
   "outputs": [],
   "source": [
    "def phi(n):\n",
    "    count = 0\n",
    "    for k in range(1, n + 1):\n",
    "        if (gcd(n, k) == 1):\n",
    "            count += 1\n",
    "    return count"
   ]
  },
  {
   "cell_type": "code",
   "execution_count": 11,
   "metadata": {},
   "outputs": [],
   "source": [
    "def pow_mod(x, power, mod):\n",
    "    x = x % mod\n",
    "    if (power == 0):\n",
    "        return 1\n",
    "    if (power % 2 == 0):\n",
    "        return pow_mod(x**2 % mod, power / 2, mod)\n",
    "    return x * pow_mod(x, power - 1, mod) % mod"
   ]
  },
  {
   "cell_type": "code",
   "execution_count": 26,
   "metadata": {},
   "outputs": [],
   "source": [
    "def pow_h(x, y, p):\n",
    "    ans = 1\n",
    "    x = x % p\n",
    "    if (x == 0):\n",
    "        return 0\n",
    "    \n",
    "    while (y > 0):\n",
    "        if ((y & 1) == 1):\n",
    "            ans = (ans * x) % p\n",
    "        y = y >> 1\n",
    "        x = (x * x) % p \n",
    "    \n",
    "    return ans"
   ]
  },
  {
   "cell_type": "code",
   "execution_count": 67,
   "metadata": {},
   "outputs": [
    {
     "data": {
      "text/plain": [
       "524286"
      ]
     },
     "execution_count": 67,
     "metadata": {},
     "output_type": "execute_result"
    }
   ],
   "source": [
    "phi(524287)"
   ]
  },
  {
   "cell_type": "code",
   "execution_count": 68,
   "metadata": {},
   "outputs": [],
   "source": [
    "class FibonacciMult:\n",
    "    def __init__(self, seed, M, j):\n",
    "        self.X = np.array(seed, dtype = int) % M \n",
    "        self.M = M\n",
    "        self.j = j\n",
    "        self.k = len(seed)\n",
    "        self.powers = np.eye(self.k, dtype = int)\n",
    "        self.phi = M - 1\n",
    "        self.A = np.zeros((len(self.X), len(self.X)), dtype = int)\n",
    "        self.A[len(self.X)-1][0] = 1\n",
    "        for i in range(0, len(self.X) - 1):\n",
    "            self.A[i][i+1] = 1\n",
    "        self.A[- 1][self.k - j] = 1\n",
    "        \n",
    "    def stupid_rand(self):\n",
    "        ans = (self.X[0] * self.X[self.k - self.j]) % self.M\n",
    "        self.X = np.array([ans if (i == len(self.X) - 1) else self.X[i+1] for i in range(0, len(self.X))])\n",
    "        return ans\n",
    "    \n",
    "    def rand(self):\n",
    "        #self.powers = self.A.dot(self.powers)\n",
    "        self.powers = field_matrix_multiplication(self.A, self.powers, self.phi)\n",
    "        ans = 1\n",
    "        for i in range(0, self.k):\n",
    "            ans =  ans * pow(int(self.X[i]), int(self.powers[-1][i]), int(self.M)) % self.M\n",
    "        return ans\n",
    "    def JumpAhead(self, step):\n",
    "        B = field_matrix_pow(self.A, step, self.phi)\n",
    "        self.powers = field_matrix_multiplication(B, self.powers, self.phi)\n",
    "        ans = 1\n",
    "        for i in range(0, self.k):\n",
    "            ans = ans * pow(int(self.X[i]), int(self.powers[-1][i]),  int(self.M)) % self.M\n",
    "        return ans\n",
    "    def GetPowers(self):\n",
    "        return self.powers\n",
    "    def GetX(self):\n",
    "        return self.X\n",
    "    def GetM(self):\n",
    "        return self.M"
   ]
  },
  {
   "cell_type": "code",
   "execution_count": 69,
   "metadata": {},
   "outputs": [
    {
     "name": "stdout",
     "output_type": "stream",
     "text": [
      "331489\n",
      "331489\n"
     ]
    },
    {
     "data": {
      "text/plain": [
       "524287"
      ]
     },
     "execution_count": 69,
     "metadata": {},
     "output_type": "execute_result"
    }
   ],
   "source": [
    "gen3 = FibonacciMult([2, 3, 4, 5, 6], 524287, 3)\n",
    "gen6 = FibonacciMult([2, 3, 4, 5, 6], 524287, 3)\n",
    "for _ in range(1, 20):\n",
    "    gen6.stupid_rand()\n",
    "print(gen6.stupid_rand())\n",
    "print(gen3.JumpAhead(20))\n",
    "gen3.GetPowers()\n",
    "gen6.GetM()"
   ]
  },
  {
   "cell_type": "code",
   "execution_count": 70,
   "metadata": {},
   "outputs": [
    {
     "name": "stdout",
     "output_type": "stream",
     "text": [
      "seed: [   5741206  334604033 3920686528  192599427 4277529146  338315285\n",
      " 3607911044 3533217591 4031536414 2404876137]\n",
      "473279\n",
      "473279\n"
     ]
    }
   ],
   "source": [
    "print(\"seed:\", seed)\n",
    "gen4 = FibonacciMult(seed, 524287, 5)\n",
    "gen5 = FibonacciMult(seed, 524287, 5)\n",
    "step = 110\n",
    "for i in range(1, step ):\n",
    "    gen4.rand()\n",
    "print(gen4.rand())\n",
    "print(gen5.JumpAhead(step))"
   ]
  },
  {
   "cell_type": "code",
   "execution_count": 71,
   "metadata": {},
   "outputs": [
    {
     "data": {
      "text/plain": [
       "76359"
      ]
     },
     "execution_count": 71,
     "metadata": {},
     "output_type": "execute_result"
    }
   ],
   "source": [
    "gen5.JumpAhead(10**9)"
   ]
  }
 ],
 "metadata": {
  "kernelspec": {
   "display_name": "Python 3",
   "language": "python",
   "name": "python3"
  },
  "language_info": {
   "codemirror_mode": {
    "name": "ipython",
    "version": 3
   },
   "file_extension": ".py",
   "mimetype": "text/x-python",
   "name": "python",
   "nbconvert_exporter": "python",
   "pygments_lexer": "ipython3",
   "version": "3.7.6"
  }
 },
 "nbformat": 4,
 "nbformat_minor": 4
}
